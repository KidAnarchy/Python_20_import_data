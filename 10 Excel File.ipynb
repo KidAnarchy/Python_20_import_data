{
 "cells": [
  {
   "cell_type": "code",
   "execution_count": 1,
   "metadata": {},
   "outputs": [],
   "source": [
    "import pandas as pd"
   ]
  },
  {
   "cell_type": "code",
   "execution_count": 2,
   "metadata": {},
   "outputs": [],
   "source": [
    "df = pd.read_excel('railinfraorg.xls')"
   ]
  },
  {
   "cell_type": "code",
   "execution_count": 4,
   "metadata": {},
   "outputs": [
    {
     "data": {
      "text/html": [
       "<div>\n",
       "<style scoped>\n",
       "    .dataframe tbody tr th:only-of-type {\n",
       "        vertical-align: middle;\n",
       "    }\n",
       "\n",
       "    .dataframe tbody tr th {\n",
       "        vertical-align: top;\n",
       "    }\n",
       "\n",
       "    .dataframe thead th {\n",
       "        text-align: right;\n",
       "    }\n",
       "</style>\n",
       "<table border=\"1\" class=\"dataframe\">\n",
       "  <thead>\n",
       "    <tr style=\"text-align: right;\">\n",
       "      <th></th>\n",
       "      <th>ประเภทราง</th>\n",
       "      <th>สาย</th>\n",
       "      <th>หน่วยงานรับผิดชอบ</th>\n",
       "      <th>ปี 2559</th>\n",
       "      <th>ปี 2560</th>\n",
       "      <th>ปี 2561</th>\n",
       "      <th>ปี 2562</th>\n",
       "      <th>ปี 2563</th>\n",
       "      <th>ปี 2564</th>\n",
       "    </tr>\n",
       "  </thead>\n",
       "  <tbody>\n",
       "    <tr>\n",
       "      <th>0</th>\n",
       "      <td>รถไฟฟ้า</td>\n",
       "      <td>สีลม</td>\n",
       "      <td>กรุงเทพมหานคร</td>\n",
       "      <td>14.5</td>\n",
       "      <td>14.5</td>\n",
       "      <td>14.5</td>\n",
       "      <td>14.5</td>\n",
       "      <td>14.5</td>\n",
       "      <td>14.50</td>\n",
       "    </tr>\n",
       "    <tr>\n",
       "      <th>1</th>\n",
       "      <td>รถไฟฟ้า</td>\n",
       "      <td>สุขุมวิท</td>\n",
       "      <td>กรุงเทพมหานคร</td>\n",
       "      <td>22</td>\n",
       "      <td>22</td>\n",
       "      <td>22.8</td>\n",
       "      <td>34.8</td>\n",
       "      <td>34.8</td>\n",
       "      <td>53.50</td>\n",
       "    </tr>\n",
       "    <tr>\n",
       "      <th>2</th>\n",
       "      <td>รถไฟฟ้า</td>\n",
       "      <td>สีทอง</td>\n",
       "      <td>กรุงเทพมหานคร</td>\n",
       "      <td>-</td>\n",
       "      <td>-</td>\n",
       "      <td>-</td>\n",
       "      <td>-</td>\n",
       "      <td>-</td>\n",
       "      <td>1.88</td>\n",
       "    </tr>\n",
       "    <tr>\n",
       "      <th>3</th>\n",
       "      <td>รถไฟฟ้า</td>\n",
       "      <td>ฉลองรัชธรรม (สายสีม่วง)</td>\n",
       "      <td>การรถไฟฟ้าขนส่งมวลชนแห่งประเทศไทย</td>\n",
       "      <td>23.6</td>\n",
       "      <td>23.6</td>\n",
       "      <td>23</td>\n",
       "      <td>23</td>\n",
       "      <td>23</td>\n",
       "      <td>23.00</td>\n",
       "    </tr>\n",
       "    <tr>\n",
       "      <th>4</th>\n",
       "      <td>รถไฟฟ้า</td>\n",
       "      <td>เฉลิมรัชมงคล (สายสีน้ำเงิน)</td>\n",
       "      <td>การรถไฟฟ้าขนส่งมวลชนแห่งประเทศไทย</td>\n",
       "      <td>20</td>\n",
       "      <td>20</td>\n",
       "      <td>21</td>\n",
       "      <td>21</td>\n",
       "      <td>35</td>\n",
       "      <td>47.00</td>\n",
       "    </tr>\n",
       "  </tbody>\n",
       "</table>\n",
       "</div>"
      ],
      "text/plain": [
       "  ประเภทราง                          สาย                  หน่วยงานรับผิดชอบ  \\\n",
       "0   รถไฟฟ้า                         สีลม                      กรุงเทพมหานคร   \n",
       "1   รถไฟฟ้า                     สุขุมวิท                      กรุงเทพมหานคร   \n",
       "2   รถไฟฟ้า                        สีทอง                      กรุงเทพมหานคร   \n",
       "3   รถไฟฟ้า      ฉลองรัชธรรม (สายสีม่วง)  การรถไฟฟ้าขนส่งมวลชนแห่งประเทศไทย   \n",
       "4   รถไฟฟ้า  เฉลิมรัชมงคล (สายสีน้ำเงิน)  การรถไฟฟ้าขนส่งมวลชนแห่งประเทศไทย   \n",
       "\n",
       "  ปี 2559 ปี 2560 ปี 2561 ปี 2562 ปี 2563  ปี 2564  \n",
       "0    14.5    14.5    14.5    14.5    14.5    14.50  \n",
       "1      22      22    22.8    34.8    34.8    53.50  \n",
       "2       -       -       -       -       -     1.88  \n",
       "3    23.6    23.6      23      23      23    23.00  \n",
       "4      20      20      21      21      35    47.00  "
      ]
     },
     "execution_count": 4,
     "metadata": {},
     "output_type": "execute_result"
    }
   ],
   "source": [
    "df.head(5)"
   ]
  }
 ],
 "metadata": {
  "kernelspec": {
   "display_name": "Python 3",
   "language": "python",
   "name": "python3"
  },
  "language_info": {
   "codemirror_mode": {
    "name": "ipython",
    "version": 3
   },
   "file_extension": ".py",
   "mimetype": "text/x-python",
   "name": "python",
   "nbconvert_exporter": "python",
   "pygments_lexer": "ipython3",
   "version": "3.8.5"
  }
 },
 "nbformat": 4,
 "nbformat_minor": 4
}
