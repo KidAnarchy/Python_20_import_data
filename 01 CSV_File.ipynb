{
 "cells": [
  {
   "cell_type": "code",
   "execution_count": 1,
   "metadata": {},
   "outputs": [],
   "source": [
    "import pandas as pd"
   ]
  },
  {
   "cell_type": "code",
   "execution_count": 4,
   "metadata": {},
   "outputs": [],
   "source": [
    "df = pd.read_csv('kh-muulraakhaasinkhaaekstrraaywan-.csv')"
   ]
  },
  {
   "cell_type": "code",
   "execution_count": 5,
   "metadata": {},
   "outputs": [
    {
     "data": {
      "text/html": [
       "<div>\n",
       "<style scoped>\n",
       "    .dataframe tbody tr th:only-of-type {\n",
       "        vertical-align: middle;\n",
       "    }\n",
       "\n",
       "    .dataframe tbody tr th {\n",
       "        vertical-align: top;\n",
       "    }\n",
       "\n",
       "    .dataframe thead th {\n",
       "        text-align: right;\n",
       "    }\n",
       "</style>\n",
       "<table border=\"1\" class=\"dataframe\">\n",
       "  <thead>\n",
       "    <tr style=\"text-align: right;\">\n",
       "      <th></th>\n",
       "      <th>PRICE_DATE</th>\n",
       "      <th>PR_PROD_NAME</th>\n",
       "      <th>MARKET_NAME</th>\n",
       "      <th>PRICE_DAY</th>\n",
       "    </tr>\n",
       "  </thead>\n",
       "  <tbody>\n",
       "    <tr>\n",
       "      <th>0</th>\n",
       "      <td>21-DEC-18</td>\n",
       "      <td>หัวมันสำปะหลังสดเชื้อแป้ง 25%(นอกโครงการ)</td>\n",
       "      <td>บ.สงวนวงษ์อุตสาหกรรม จำกัด นครราชสีมา</td>\n",
       "      <td>2.55</td>\n",
       "    </tr>\n",
       "    <tr>\n",
       "      <th>1</th>\n",
       "      <td>21-DEC-18</td>\n",
       "      <td>หัวมันสำปะหลังสดเชื้อแป้ง 25%(นอกโครงการ)</td>\n",
       "      <td>โรงงานแป้งมันสำปะหลังครบุรี นครราชสีมา</td>\n",
       "      <td>2.55</td>\n",
       "    </tr>\n",
       "    <tr>\n",
       "      <th>2</th>\n",
       "      <td>21-DEC-18</td>\n",
       "      <td>หัวมันสำปะหลังสดเชื้อแป้ง 25%(นอกโครงการ)</td>\n",
       "      <td>บริษัท ชลเจริญ จำกัด ชลบุรี</td>\n",
       "      <td>2.55</td>\n",
       "    </tr>\n",
       "    <tr>\n",
       "      <th>3</th>\n",
       "      <td>21-DEC-18</td>\n",
       "      <td>ผลปาล์มน้ำมันทั้งทะลาย นน.&gt; 15 กก. ขึ้นไป</td>\n",
       "      <td>บริษัท สุขสมบูรณ์น้ำมันปาล์ม จำกัด ชลบุรี</td>\n",
       "      <td>2.55</td>\n",
       "    </tr>\n",
       "    <tr>\n",
       "      <th>4</th>\n",
       "      <td>21-DEC-18</td>\n",
       "      <td>ผลปาล์มน้ำมันทั้งทะลาย นน.&gt; 15 กก. ขึ้นไป</td>\n",
       "      <td>สหกรณ์นิคมการเกษตรท่าแซะ ชุมพร</td>\n",
       "      <td>2.80</td>\n",
       "    </tr>\n",
       "  </tbody>\n",
       "</table>\n",
       "</div>"
      ],
      "text/plain": [
       "  PRICE_DATE                               PR_PROD_NAME  \\\n",
       "0  21-DEC-18  หัวมันสำปะหลังสดเชื้อแป้ง 25%(นอกโครงการ)   \n",
       "1  21-DEC-18  หัวมันสำปะหลังสดเชื้อแป้ง 25%(นอกโครงการ)   \n",
       "2  21-DEC-18  หัวมันสำปะหลังสดเชื้อแป้ง 25%(นอกโครงการ)   \n",
       "3  21-DEC-18  ผลปาล์มน้ำมันทั้งทะลาย นน.> 15 กก. ขึ้นไป   \n",
       "4  21-DEC-18  ผลปาล์มน้ำมันทั้งทะลาย นน.> 15 กก. ขึ้นไป   \n",
       "\n",
       "                                  MARKET_NAME  PRICE_DAY  \n",
       "0      บ.สงวนวงษ์อุตสาหกรรม จำกัด นครราชสีมา        2.55  \n",
       "1     โรงงานแป้งมันสำปะหลังครบุรี นครราชสีมา        2.55  \n",
       "2                บริษัท ชลเจริญ จำกัด ชลบุรี        2.55  \n",
       "3  บริษัท สุขสมบูรณ์น้ำมันปาล์ม จำกัด ชลบุรี        2.55  \n",
       "4             สหกรณ์นิคมการเกษตรท่าแซะ ชุมพร        2.80  "
      ]
     },
     "execution_count": 5,
     "metadata": {},
     "output_type": "execute_result"
    }
   ],
   "source": [
    "df.head(5)"
   ]
  }
 ],
 "metadata": {
  "kernelspec": {
   "display_name": "Python 3",
   "language": "python",
   "name": "python3"
  },
  "language_info": {
   "codemirror_mode": {
    "name": "ipython",
    "version": 3
   },
   "file_extension": ".py",
   "mimetype": "text/x-python",
   "name": "python",
   "nbconvert_exporter": "python",
   "pygments_lexer": "ipython3",
   "version": "3.8.5"
  }
 },
 "nbformat": 4,
 "nbformat_minor": 4
}
